{
 "cells": [
  {
   "cell_type": "markdown",
   "id": "provincial-brown",
   "metadata": {},
   "source": [
    "# Question 6 (a)"
   ]
  },
  {
   "cell_type": "code",
   "execution_count": 7,
   "id": "interstate-surname",
   "metadata": {},
   "outputs": [
    {
     "name": "stdout",
     "output_type": "stream",
     "text": [
      "======= Question6 (a)========\n",
      "X data mean =  156.85\n",
      "X data median =  152.5\n",
      "X data standard deviation =  22.068699553893065\n",
      "\n",
      "median p-value\n",
      "Z-score =  -0.12665381415198365\n",
      "p-value =  0.4496072011610487\n",
      "\n",
      "Mean p-value\n",
      "Z-score =  -0.08257828682709341\n",
      "p-value =  0.4670934334486887\n"
     ]
    }
   ],
   "source": [
    "import matplotlib.pyplot as plt\n",
    "import numpy as np\n",
    "from scipy.stats import norm\n",
    "\n",
    "x_data = [186, 181, 176, 149, 184, 190, 158, 139, 175, 148, \n",
    "        152, 111, 141, 153, 190, 157, 131, 149, 135, 132]\n",
    "x_size = len(x_data)\n",
    "x_med = np.median(x_data)\n",
    "x_mean = np.mean(x_data)\n",
    "x_std = np.std(x_data)\n",
    "numm_H = 165\n",
    "# Z - score\n",
    "z_scores = (x_med-numm_H)/(x_std)/np.sqrt(x_size)\n",
    "p_values = norm.sf(abs(z_scores)) \n",
    "\n",
    "print('======= Question6 (a)========')\n",
    "\n",
    "print('X data mean = ', x_mean)\n",
    "print('X data median = ', x_med)\n",
    "print('X data standard deviation = ', x_std)\n",
    "print()\n",
    "print('median p-value')\n",
    "print('Z-score = ', z_scores)\n",
    "print('p-value = ', p_values)\n",
    "\n",
    "z_scores = (x_mean-numm_H)/(x_std)/np.sqrt(x_size)\n",
    "p_values = norm.sf(abs(z_scores)) \n",
    "print()\n",
    "print('Mean p-value')\n",
    "print('Z-score = ', z_scores)\n",
    "print('p-value = ', p_values)\n",
    "\n"
   ]
  },
  {
   "cell_type": "markdown",
   "id": "pregnant-usage",
   "metadata": {},
   "source": [
    "# Question 6 (b)"
   ]
  },
  {
   "cell_type": "code",
   "execution_count": 2,
   "id": "attended-criminal",
   "metadata": {},
   "outputs": [
    {
     "name": "stdout",
     "output_type": "stream",
     "text": [
      "======= Question6 (b)========\n",
      "\n",
      "***** 1 th Trial***** \n",
      "P-value =  0.4853515625\n",
      "\n",
      "***** 2 th Trial***** \n",
      "P-value =  0.4521484375\n",
      "\n",
      "***** 3 th Trial***** \n",
      "P-value =  0.478515625\n",
      "\n",
      "***** 4 th Trial***** \n",
      "P-value =  0.4609375\n",
      "\n",
      "***** 5 th Trial***** \n",
      "P-value =  0.458984375\n"
     ]
    }
   ],
   "source": [
    "# Question 7 (b)\n",
    "print('======= Question6 (b)========')\n",
    "for i in range(5):\n",
    "    B=2**10\n",
    "    n_size = len(x_data)\n",
    "    null_H = 165\n",
    "    Perm_theta=[]\n",
    "    Perm_pi_vector=[]\n",
    "    for _ in range(B):\n",
    "        new_dis_sample=[]; pi_vec =[];\n",
    "        for _ in range(n_size):\n",
    "            indx = np.random.uniform(0,len(x_data))\n",
    "            indx = int(indx)\n",
    "            new_dis_sample.append(x_data[indx])\n",
    "            if x_data[indx]>null_H:\n",
    "                pi_vec.append(1)\n",
    "            else: pi_vec.append(-1)\n",
    "        Perm_theta.append(np.median(new_dis_sample))\n",
    "        Perm_pi_vector.append(np.median(pi_vec))\n",
    "\n",
    "\n",
    "    larger_elem = [elem for elem in Perm_theta if elem > x_med]\n",
    "    count_ele = len(larger_elem)\n",
    "\n",
    "    prob = (count_ele)/B\n",
    "    print('')\n",
    "    print('*****',(i+1),'th Trial***** ')\n",
    "    print('P-value = ',prob)\n",
    "\n"
   ]
  },
  {
   "cell_type": "markdown",
   "id": "elect-civilian",
   "metadata": {},
   "source": [
    "# Question6 (b) after revision from the question"
   ]
  },
  {
   "cell_type": "code",
   "execution_count": 3,
   "id": "caring-smell",
   "metadata": {},
   "outputs": [
    {
     "name": "stdout",
     "output_type": "stream",
     "text": [
      "======= Question6 (b) after revision from the question========\n",
      "\n",
      "***** 1 th Trial***** \n",
      "P-value =  0.5078125\n",
      "\n",
      "***** 2 th Trial***** \n",
      "P-value =  0.48828125\n",
      "\n",
      "***** 3 th Trial***** \n",
      "P-value =  0.4765625\n",
      "\n",
      "***** 4 th Trial***** \n",
      "P-value =  0.517578125\n",
      "\n",
      "***** 5 th Trial***** \n",
      "P-value =  0.4814453125\n"
     ]
    }
   ],
   "source": [
    "\n",
    "# Question 6 (b)\n",
    "print('======= Question6 (b) after revision from the question========')\n",
    "\n",
    "B=2**10\n",
    "n_size = len(x_data)\n",
    "null_H = 165\n",
    "\n",
    "T_obs_data = [x-null_H for x in x_data]\n",
    "T_obs = np.mean(T_obs_data)\n",
    "\n",
    "for i in range(5):\n",
    "    Perm_theta=[]\n",
    "    Perm_pi_vector=[]\n",
    "    for _ in range(B):\n",
    "        new_dis_sample=[]; pi_vec =[];\n",
    "        for _ in range(n_size):\n",
    "            indx = np.random.uniform(0,len(x_data))\n",
    "            indx = int(indx)\n",
    "            new_dis_sample.append(x_data[indx])\n",
    "        T_b = [x_i- null_H for x_i in new_dis_sample]\n",
    "        Perm_theta.append(np.mean(T_b))\n",
    "    larger_elem = [elem for elem in Perm_theta if elem > T_obs]\n",
    "    count_ele = len(larger_elem)\n",
    "\n",
    "    prob = (count_ele)/B\n",
    "    print('')\n",
    "    print('*****',(i+1),'th Trial***** ')\n",
    "    print('P-value = ',prob)\n"
   ]
  },
  {
   "cell_type": "code",
   "execution_count": null,
   "id": "posted-startup",
   "metadata": {},
   "outputs": [],
   "source": []
  }
 ],
 "metadata": {
  "kernelspec": {
   "display_name": "Python 3",
   "language": "python",
   "name": "python3"
  },
  "language_info": {
   "codemirror_mode": {
    "name": "ipython",
    "version": 3
   },
   "file_extension": ".py",
   "mimetype": "text/x-python",
   "name": "python",
   "nbconvert_exporter": "python",
   "pygments_lexer": "ipython3",
   "version": "3.7.7"
  }
 },
 "nbformat": 4,
 "nbformat_minor": 5
}
