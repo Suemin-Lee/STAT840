{
 "cells": [
  {
   "cell_type": "markdown",
   "id": "enclosed-compatibility",
   "metadata": {},
   "source": [
    "# Question 5 (a) Original data analysis"
   ]
  },
  {
   "cell_type": "code",
   "execution_count": 1,
   "id": "complicated-channels",
   "metadata": {},
   "outputs": [
    {
     "name": "stdout",
     "output_type": "stream",
     "text": [
      "================ Original data analysis==================\n",
      "===== (a) Mean and variance with 90CI  === \n",
      "Mean =  156.85 variance =  487.0275\n",
      "90% Confidence intervals =  [155.0348494616923, 158.6651505383077]\n",
      "\n"
     ]
    }
   ],
   "source": [
    "import matplotlib.pyplot as plt\n",
    "import numpy as np\n",
    "\n",
    "\n",
    "x_data = [186, 181, 176, 149, 184, 190, 158, 139, 175, 148, \n",
    "        152, 111, 141, 153, 190, 157, 131, 149, 135, 132,]\n",
    "\n",
    "zscore90 = 1.645 \n",
    "n_size = len(x_data)\n",
    "\n",
    "# Question (a)\n",
    "theta_hat = np.mean(x_data)\n",
    "variance_hat = np.var(x_data)\n",
    "SE_normal =np.sqrt(variance_hat)/n_size\n",
    "lower_b = theta_hat-zscore90*SE_normal\n",
    "upper_b = theta_hat+zscore90*SE_normal\n",
    "CI90 = [lower_b , upper_b]\n",
    "\n",
    "print('================ Original data analysis==================')\n",
    "print('===== (a) Mean and variance with 90CI  === ')\n",
    "print('Mean = ', theta_hat, 'variance = ',variance_hat )\n",
    "print('90% Confidence intervals = ', CI90)\n",
    "print('')\n",
    "\n"
   ]
  },
  {
   "cell_type": "markdown",
   "id": "loaded-bradford",
   "metadata": {},
   "source": [
    "# Question 5 (b) Jack Knife"
   ]
  },
  {
   "cell_type": "code",
   "execution_count": 2,
   "id": "rental-purse",
   "metadata": {},
   "outputs": [
    {
     "name": "stdout",
     "output_type": "stream",
     "text": [
      "================ Jackknife Method ==================\n",
      "===== (b) Normal inveral with Standar Error  === \n",
      "Average confidence_length SE =  [148.52151814337185, 165.17848185662814]\n",
      "\n"
     ]
    }
   ],
   "source": [
    "# Question (b) Jack Knife\n",
    "Jack_theta =[]; \n",
    "for index in range(n_size):\n",
    "    new_t= x_data[:index] + x_data[index+1 :]\n",
    "    theat_hat_star = np.mean(new_t)\n",
    "    Jack_theta.append(theat_hat_star)\n",
    "jack_SE = np.sqrt(((n_size-1)/n_size)*np.sum((Jack_theta-theta_hat)**2))\n",
    "lower_b = theta_hat - zscore90*jack_SE; \n",
    "upper_b = theta_hat + zscore90*jack_SE;\n",
    "CI90_jack = [lower_b , upper_b]\n",
    "\n",
    "print('================ Jackknife Method ==================')\n",
    "print('===== (b) Normal inveral with Standar Error  === ')\n",
    "print('Average confidence_length SE = ', CI90_jack)\n",
    "print('')\n",
    "\n",
    "\n",
    "\n"
   ]
  },
  {
   "cell_type": "markdown",
   "id": "balanced-committee",
   "metadata": {},
   "source": [
    "# Question 5 Bootstrap (c) and (d)"
   ]
  },
  {
   "cell_type": "code",
   "execution_count": 3,
   "id": "embedded-shopper",
   "metadata": {},
   "outputs": [
    {
     "name": "stdout",
     "output_type": "stream",
     "text": [
      "================ Bootstrap Method ==================\n",
      "===== (d) Normal inveral with SE with B=10000  === \n",
      "Average confidence_length SE =  [148.75862329748145, 164.94137670251854]\n",
      "\n",
      "===== (c) Percentile invterals with B=10000  === \n",
      "Average confidence_length SE =  [148.75, 164.95]\n",
      "\n"
     ]
    }
   ],
   "source": [
    "# Question Bootstrap (c) and (d)\n",
    "B=10000\n",
    "Boot_theta=[]\n",
    "for _ in range(B):\n",
    "    new_dis_sample=[];\n",
    "    for _ in range(n_size):\n",
    "        indx = np.random.uniform(0,len(x_data))\n",
    "        indx = int(indx)\n",
    "        new_dis_sample.append(x_data[indx])\n",
    "    Boot_theta.append(np.mean(new_dis_sample))\n",
    "# Normal interval standard error methods\n",
    "Boot_SE = np.sqrt(np.var(Boot_theta))\n",
    "lower_b = theta_hat - zscore90*Boot_SE; \n",
    "upper_b = theta_hat + zscore90*Boot_SE;\n",
    "boot_SE_CI = [lower_b,upper_b]\n",
    "\n",
    "# 90 percentile intervals \n",
    "boot_q095 = np.quantile(Boot_theta, 0.95);\n",
    "boot_q005 = np.quantile(Boot_theta, 0.05);\n",
    "boot_percent_CI = [boot_q005,boot_q095] \n",
    "\n",
    "\n",
    "print('================ Bootstrap Method ==================')\n",
    "print('===== (d) Normal inveral with SE with B=10000  === ')\n",
    "print('Average confidence_length SE = ', boot_SE_CI)\n",
    "print('')\n",
    "print('===== (c) Percentile invterals with B=10000  === ')\n",
    "print('Average confidence_length SE = ', boot_percent_CI)\n",
    "print('')\n"
   ]
  },
  {
   "cell_type": "code",
   "execution_count": null,
   "id": "least-bearing",
   "metadata": {},
   "outputs": [],
   "source": []
  }
 ],
 "metadata": {
  "kernelspec": {
   "display_name": "Python 3",
   "language": "python",
   "name": "python3"
  },
  "language_info": {
   "codemirror_mode": {
    "name": "ipython",
    "version": 3
   },
   "file_extension": ".py",
   "mimetype": "text/x-python",
   "name": "python",
   "nbconvert_exporter": "python",
   "pygments_lexer": "ipython3",
   "version": "3.7.7"
  }
 },
 "nbformat": 4,
 "nbformat_minor": 5
}
