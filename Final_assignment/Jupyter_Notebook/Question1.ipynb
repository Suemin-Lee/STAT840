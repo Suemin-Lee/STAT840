{
 "cells": [
  {
   "cell_type": "code",
   "execution_count": 3,
   "id": "controlled-awareness",
   "metadata": {},
   "outputs": [
    {
     "data": {
      "image/png": "[encoded data removed]",
      "text/plain": [
       "<Figure size 360x288 with 1 Axes>"
      ]
     },
     "metadata": {
      "needs_background": "light"
     },
     "output_type": "display_data"
    }
   ],
   "source": [
    "import numpy as np \n",
    "import matplotlib.pyplot as plt\n",
    "from scipy.stats import gamma\n",
    "from scipy.stats import expon\n",
    "from scipy.special import factorial\n",
    "from tabulate import tabulate\n",
    "\n",
    "def Inverse_exponential(mu, n_size):\n",
    "    y = []\n",
    "    for _ in range(n_size):\n",
    "        x = -mu*np.log(np.random.uniform(0,1))\n",
    "        y.append(x)\n",
    "    return y\n",
    "\n",
    "# Question 1 (a)\n",
    "mu1=1\n",
    "n_size=500;\n",
    "plt.figure(figsize=(5,4))\n",
    "plt.hist(Inverse_exponential(mu1, n_size),bins='auto')\n",
    "plt.xlabel('x variables')\n",
    "plt.ylabel('Counts')\n",
    "plt.title(r'Inverse Exponential histogram $\\mu$= %i, N= %i'%(mu1,n_size))\n",
    "plt.show()\n",
    "\n"
   ]
  },
  {
   "cell_type": "code",
   "execution_count": 4,
   "id": "alpine-gilbert",
   "metadata": {},
   "outputs": [
    {
     "name": "stdout",
     "output_type": "stream",
     "text": [
      "=======Question1 (b)=======\n",
      "\n",
      "N size =  1000\n",
      "\n",
      "  alpha    lambda        mu        M    Acceptance prob\n",
      "-------  --------  --------  -------  -----------------\n",
      "1.00001         1  0.99999   1.00001              1\n",
      "1.2             1  0.833333  1.10978              0.897\n",
      "1.5             1  0.666667  1.25732              0.792\n",
      "2               1  0.5       1.47152              0.691\n",
      "2               2  1         1.47152              0.659\n",
      "3               2  0.666667  1.82703              0.573\n",
      "4               3  0.75      2.12425              0.446\n",
      "5               3  0.6       2.38485              0.436\n"
     ]
    }
   ],
   "source": [
    "def optimal_parameter(alpha,beta):\n",
    "    mu = beta/alpha\n",
    "\n",
    "    sup_x = (alpha -1)/(beta-mu)\n",
    "    M = beta**alpha / factorial(alpha-1) /mu *(sup_x)**(alpha-1) * np.exp(1-alpha)\n",
    "    return mu, M\n",
    "\n",
    "def func(x,M,alpha,beta,mu):\n",
    "    ans = gamma.pdf(x, a=alpha, scale=1/beta)/(M*expon.pdf(x, scale=1/mu))\n",
    "    return ans\n",
    "\n",
    "data ={'alpha':[],'lambda':[],'mu':[],'M':[],'Acceptance prob':[]}\n",
    "\n",
    "alpha_beta_pair =[[1.00001,1], [1.2,1],\n",
    "                  [1.5,1],       [2,1],\n",
    "                  [2,2]  ,       [3,2],  \n",
    "                  [4,3]  ,       [5,3]]\n",
    "\n",
    "\n",
    "N_size =1000;\n",
    "for pair in alpha_beta_pair:\n",
    "    alpha, beta  = pair[0] ,pair[1]\n",
    "    saved_data=[]\n",
    "    for _ in range(N_size):\n",
    "        mu, M = optimal_parameter(alpha,beta)\n",
    "        y = np.random.exponential(1/mu)\n",
    "        u = np.random.uniform(0,1)\n",
    "\n",
    "        if u< func(y,M,alpha,beta,mu): saved_data.append(y)\n",
    "\n",
    "    p = len(saved_data)/N_size\n",
    "    data['alpha'].append(alpha)\n",
    "    data['lambda'].append(beta)\n",
    "    data['mu'].append(mu)\n",
    "    data['M'].append(M)\n",
    "    data['Acceptance prob'].append(p)\n",
    "\n",
    "print('=======Question1 (b)=======')\n",
    "print()\n",
    "print('N size = ',N_size)\n",
    "print()\n",
    "print(tabulate(data, headers='keys'))\n",
    "\n",
    "\n"
   ]
  },
  {
   "cell_type": "code",
   "execution_count": 9,
   "id": "pressed-parade",
   "metadata": {},
   "outputs": [],
   "source": [
    "def g_sample_generator(N_size,alpha,beta):\n",
    "    \n",
    "    saved_data=[]\n",
    "    n_samples = 0\n",
    "    while len(saved_data) <= N_size:\n",
    "    # for _ in range(N_size):\n",
    "        mu, M = optimal_parameter(alpha,beta)\n",
    "        y = np.random.exponential(mu)\n",
    "        u = np.random.uniform(0,1)\n",
    "        n_samples +=1\n",
    "        if u< func(y,M,alpha,beta,mu): \n",
    "            saved_data.append(y)\n",
    "    p = len(saved_data)/n_samples\n",
    "    return saved_data \n",
    "\n",
    "\n"
   ]
  },
  {
   "cell_type": "code",
   "execution_count": 10,
   "id": "killing-cameroon",
   "metadata": {},
   "outputs": [
    {
     "name": "stdout",
     "output_type": "stream",
     "text": [
      "=============== Question1 (c)======================\n",
      "Sample size =  1000\n",
      "theta =  0.11807600395722277 Standard Error =  0.0012576419797487351\n",
      "95% CI =  [0.11561102567691525, 0.12054098223753029]\n"
     ]
    }
   ],
   "source": [
    "n_size = 1000\n",
    "alpha = 5\n",
    "lamda = 3\n",
    "x_random_variable = g_sample_generator(n_size,alpha,lamda)\n",
    "\n",
    "MC=[]\n",
    "x_store=[]\n",
    "for x in x_random_variable:\n",
    "    if x>1 and x<5: \n",
    "        x_store.append(x)\n",
    "        MC.append(np.log(1+x**2)/((3**5)/factorial(4)))\n",
    "\n",
    "zscore =1.96\n",
    "theta = np.mean(MC)\n",
    "SE = np.sqrt(np.var(MC))/np.sqrt(n_size)\n",
    "theta = np.mean(MC)\n",
    "theta = np.mean(MC)\n",
    "lower_b = theta - zscore*SE\n",
    "upper_b = theta + zscore*SE\n",
    "CI_95 = [lower_b,upper_b]\n",
    "print('=============== Question1 (c)======================')\n",
    "print('Sample size = ', n_size)\n",
    "print('theta = ' ,theta, 'Standard Error = ', SE)\n",
    "print('95% CI = ',CI_95)\n"
   ]
  },
  {
   "cell_type": "code",
   "execution_count": null,
   "id": "economic-queens",
   "metadata": {},
   "outputs": [],
   "source": []
  }
 ],
 "metadata": {
  "kernelspec": {
   "display_name": "Python 3",
   "language": "python",
   "name": "python3"
  },
  "language_info": {
   "codemirror_mode": {
    "name": "ipython",
    "version": 3
   },
   "file_extension": ".py",
   "mimetype": "text/x-python",
   "name": "python",
   "nbconvert_exporter": "python",
   "pygments_lexer": "ipython3",
   "version": "3.7.7"
  }
 },
 "nbformat": 4,
 "nbformat_minor": 5
}
